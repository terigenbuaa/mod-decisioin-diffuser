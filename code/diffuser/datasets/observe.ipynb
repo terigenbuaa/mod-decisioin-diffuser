{
 "cells": [
  {
   "cell_type": "code",
   "execution_count": 6,
   "metadata": {},
   "outputs": [],
   "source": [
    "import sys\n",
    "sys.path.append('/root/mod-decision-diffuser/code/')\n",
    "sys.path.append('/root/grid2op_mod/')"
   ]
  },
  {
   "cell_type": "code",
   "execution_count": 7,
   "metadata": {},
   "outputs": [],
   "source": [
    "import pandas as pd\n",
    "import numpy as np\n",
    "\n",
    "from data_encoder_decoder import load_data"
   ]
  },
  {
   "cell_type": "code",
   "execution_count": 8,
   "metadata": {},
   "outputs": [],
   "source": [
    "data, _ = load_data('data/data_sampled.pkl')"
   ]
  },
  {
   "cell_type": "code",
   "execution_count": 9,
   "metadata": {},
   "outputs": [],
   "source": [
    "oservations, actions = data['observations'], data['actions']"
   ]
  },
  {
   "cell_type": "code",
   "execution_count": 11,
   "metadata": {},
   "outputs": [
    {
     "data": {
      "text/plain": [
       "array([  2.4     ,   2.4     , 400.3     ,   0.      ,  23.      ,\n",
       "        22.7     ,  84.      ,  21.4     ,   0.      ,  21.4     ,\n",
       "        52.1     ,   0.      ,   7.1     , 400.3     ,   3.4     ,\n",
       "         3.4     ,   0.      ,   6.6     ,   0.      ,   0.      ,\n",
       "         3.5     ,   3.5     ,  21.3     ,  21.1     ,  87.4     ,\n",
       "        43.2     ,   0.      ,  21.5     ,  21.7     ,   0.      ,\n",
       "        44.      ,  43.2     ,   0.      ,   7.3     ,  41.9     ,\n",
       "       400.1     ,   0.      ,  24.110022,   0.      ,  71.3     ,\n",
       "         0.      ,   0.      ,  48.6     ,  20.3     ,  20.5     ,\n",
       "        10.3     ,   0.      ,   0.      ,   7.9     ,  19.9     ,\n",
       "        19.8     , 300.      ,   4.      ,  29.2     ,   4.1     ,\n",
       "       149.9     ,   0.      ,   8.3     ,   0.      ,   8.6     ,\n",
       "         0.      ,   0.      ], dtype=float32)"
      ]
     },
     "execution_count": 11,
     "metadata": {},
     "output_type": "execute_result"
    }
   ],
   "source": [
    "oservations[0][:62]"
   ]
  },
  {
   "cell_type": "code",
   "execution_count": 12,
   "metadata": {},
   "outputs": [
    {
     "data": {
      "text/plain": [
       "array([-2.4       , -0.8720261 ,  0.        , -0.        , -0.3210615 ,\n",
       "       -1.701696  , -0.9549195 , -0.        , -0.        , -2.7832901 ,\n",
       "       -0.        , -0.        , -0.        , -2.8       , -3.3044794 ,\n",
       "        1.1192613 , -0.        , -0.        , -0.        , -0.        ,\n",
       "       -3.5       , -2.390639  , -0.        , -0.86106706, -2.1396081 ,\n",
       "       -0.        , -0.        , -0.        , -0.        , -0.        ,\n",
       "       -0.        , -0.        , -0.        , -2.0998974 , -0.        ,\n",
       "        0.        , -0.        ,  0.        , -0.        , -0.        ,\n",
       "       -0.        , -0.        , -2.3152738 , -4.3226314 , -0.        ,\n",
       "       -0.2891113 , -0.        , -0.        , -0.        , -2.1627648 ,\n",
       "       -1.7480209 ,  0.        , -0.        , -0.492426  , -2.6522088 ,\n",
       "       -0.        , -0.        , -0.        , -0.        , -0.        ,\n",
       "       -0.        , -0.        ], dtype=float32)"
      ]
     },
     "execution_count": 12,
     "metadata": {},
     "output_type": "execute_result"
    }
   ],
   "source": [
    "actions[0]"
   ]
  },
  {
   "cell_type": "code",
   "execution_count": 19,
   "metadata": {},
   "outputs": [
    {
     "data": {
      "text/plain": [
       "array([ True,  True,  True,  True,  True,  True,  True,  True,  True,\n",
       "        True,  True,  True,  True,  True,  True,  True,  True,  True,\n",
       "        True,  True,  True,  True,  True,  True,  True,  True,  True,\n",
       "        True,  True,  True,  True,  True,  True,  True,  True,  True,\n",
       "        True, False,  True,  True,  True,  True,  True,  True,  True,\n",
       "        True,  True,  True,  True,  True,  True,  True,  True,  True,\n",
       "        True,  True,  True,  True,  True,  True,  True,  True])"
      ]
     },
     "execution_count": 19,
     "metadata": {},
     "output_type": "execute_result"
    }
   ],
   "source": [
    "oservations[0][:62] + actions[0] == oservations[1][:62]"
   ]
  },
  {
   "cell_type": "code",
   "execution_count": 18,
   "metadata": {},
   "outputs": [
    {
     "name": "stdout",
     "output_type": "stream",
     "text": [
      "timestep: 12790\n",
      "[-0. -0. -0. -0. -0. -0.]\n",
      "timestep: 72424\n",
      "[-0. -0. -0. -0. -0. -0. -0. -0. -0. -0. -0. -0. -0. -0. -0. -0. -0. -0.\n",
      " -0. -0. -0. -0. -0. -0. -0. -0. -0. -0. -0. -0.]\n",
      "timestep: 54411\n",
      "[-0. -0. -0. -0. -0. -0. -0. -0. -0. -0. -0. -0. -0. -0. -0. -0. -0. -0.]\n",
      "timestep: 55963\n",
      "[-0. -0. -0. -0. -0. -0. -0. -0. -0. -0. -0. -0. -0. -0. -0. -0. -0. -0.\n",
      " -0. -0. -0. -0. -0. -0. -0. -0.]\n",
      "timestep: 36466\n",
      "[-0. -0. -0. -0. -0. -0. -0. -0. -0. -0. -0. -0. -0. -0. -0. -0. -0. -0.\n",
      " -0. -0. -0. -0. -0. -0. -0. -0. -0. -0. -0. -0. -0. -0. -0. -0. -0. -0.\n",
      " -0. -0. -0. -0.]\n",
      "timestep: 582\n",
      "[-0. -0. -0. -0. -0. -0. -0. -0. -0. -0. -0. -0.]\n",
      "timestep: 28649\n",
      "[-0.         -0.         -0.         -0.         -0.          0.08477653\n",
      " -0.         -0.         -0.         -0.         -0.         -0.\n",
      " -0.         -0.         -0.          0.08093705 -0.         -0.\n",
      "  0.01433846 -0.         -0.         -0.         -0.          0.15139124\n",
      " -0.        ]\n",
      "timestep: 28906\n",
      "[-0. -0. -0. -0. -0. -0. -0. -0. -0. -0. -0. -0. -0. -0. -0. -0. -0. -0.\n",
      " -0. -0. -0. -0. -0. -0. -0. -0. -0. -0. -0. -0. -0. -0. -0. -0. -0. -0.\n",
      " -0.]\n",
      "timestep: 1432\n",
      "[-0. -0. -0. -0. -0. -0. -0. -0. -0. -0. -0. -0. -0. -0. -0. -0. -0. -0.\n",
      " -0. -0. -0. -0. -0. -0. -0. -0. -0. -0. -0. -0.]\n",
      "timestep: 64274\n",
      "[-0.         -0.         -0.         -0.         -0.         -0.\n",
      " -0.         -0.         -0.         -0.         -0.         -0.\n",
      " -0.         -0.         -0.         -0.         -0.         -0.\n",
      "  0.05813976 -0.         -0.         -0.         -0.         -0.\n",
      " -0.         -0.        ]\n"
     ]
    }
   ],
   "source": [
    "random_list = [np.random.randint(low=0, high=80000) for _ in range(10)]\n",
    "\n",
    "for timestep in random_list:\n",
    "    print(f\"timestep: {timestep}\")\n",
    "    print(actions[timestep][oservations[timestep][:62] == 0])"
   ]
  },
  {
   "cell_type": "code",
   "execution_count": 21,
   "metadata": {},
   "outputs": [
    {
     "name": "stdout",
     "output_type": "stream",
     "text": [
      "timestep: 75986\n",
      "[ True  True  True  True  True  True  True  True  True  True  True  True\n",
      "  True  True  True  True  True  True  True  True  True  True  True  True\n",
      "  True  True  True  True  True  True  True  True  True  True  True  True\n",
      "  True False  True  True  True  True  True  True  True  True  True  True\n",
      "  True  True  True  True  True  True  True  True  True  True  True  True\n",
      "  True  True]\n",
      "timestep: 41264\n",
      "[ True  True  True  True  True  True  True  True  True  True  True  True\n",
      "  True  True  True  True  True  True  True  True  True  True  True  True\n",
      "  True  True  True  True  True  True  True  True  True  True  True  True\n",
      "  True False  True  True  True  True  True  True  True  True  True  True\n",
      "  True  True  True  True  True  True  True  True  True  True  True  True\n",
      "  True  True]\n",
      "timestep: 66319\n",
      "[ True  True  True  True  True  True  True  True  True  True  True  True\n",
      "  True  True  True  True  True  True  True  True  True  True  True  True\n",
      "  True  True  True  True  True  True  True  True  True  True  True  True\n",
      "  True False  True  True  True  True  True  True  True  True  True  True\n",
      "  True  True  True  True  True  True  True  True  True  True  True  True\n",
      "  True  True]\n",
      "timestep: 66024\n",
      "[ True  True  True  True  True  True  True  True  True  True  True  True\n",
      "  True  True  True  True  True  True  True  True  True  True  True  True\n",
      "  True  True  True  True  True  True  True  True  True  True  True  True\n",
      "  True False  True  True  True  True  True  True  True  True  True  True\n",
      "  True  True  True  True  True  True  True  True  True  True  True  True\n",
      "  True  True]\n",
      "timestep: 35394\n",
      "[ True  True  True  True  True  True  True  True  True  True  True  True\n",
      "  True  True  True  True  True  True  True  True  True  True  True  True\n",
      "  True  True  True  True  True  True  True  True  True  True  True  True\n",
      "  True False  True  True  True  True  True  True  True  True  True  True\n",
      "  True  True  True  True  True  True  True  True  True  True  True  True\n",
      "  True  True]\n",
      "timestep: 37141\n",
      "[ True  True  True  True  True  True  True  True  True  True  True  True\n",
      "  True  True  True  True  True  True  True  True  True  True  True  True\n",
      "  True  True  True  True  True  True  True  True  True  True  True  True\n",
      "  True False  True  True  True  True  True  True  True  True  True  True\n",
      "  True  True  True  True  True  True  True  True  True  True  True  True\n",
      "  True  True]\n",
      "timestep: 14136\n",
      "[ True  True  True  True  True  True  True  True  True  True  True  True\n",
      "  True  True  True  True  True  True  True  True  True  True  True  True\n",
      "  True  True  True  True  True  True  True  True  True  True  True  True\n",
      "  True False  True  True  True  True  True  True  True  True  True  True\n",
      "  True  True  True  True  True  True  True  True  True  True  True  True\n",
      "  True  True]\n",
      "timestep: 12595\n",
      "[ True  True  True  True  True  True  True  True  True  True  True  True\n",
      "  True  True  True  True  True  True  True  True  True  True  True  True\n",
      "  True  True  True  True  True  True  True  True  True  True  True  True\n",
      "  True False  True  True  True  True  True  True  True  True  True  True\n",
      "  True  True  True  True  True  True  True  True  True  True  True  True\n",
      "  True  True]\n",
      "timestep: 21190\n",
      "[ True  True  True  True  True  True  True  True  True  True  True  True\n",
      "  True  True  True  True  True  True  True  True  True  True  True  True\n",
      "  True  True  True  True  True  True  True  True  True  True  True  True\n",
      "  True False  True  True  True  True  True  True  True  True  True  True\n",
      "  True  True  True  True  True  True  True  True  True  True  True  True\n",
      "  True  True]\n",
      "timestep: 74830\n",
      "[ True  True  True  True  True  True  True  True  True  True  True  True\n",
      "  True  True  True  True  True  True  True  True  True  True  True  True\n",
      "  True  True  True  True  True  True  True  True  True  True  True  True\n",
      "  True False  True  True  True  True  True  True  True  True  True  True\n",
      "  True  True  True  True  True  True  True  True  True  True  True  True\n",
      "  True  True]\n"
     ]
    }
   ],
   "source": [
    "random_list = [np.random.randint(low=0, high=80000) for _ in range(10)]\n",
    "\n",
    "for timestep in random_list:\n",
    "    print(f\"timestep: {timestep}\")\n",
    "    print(oservations[timestep][:62] + actions[timestep] == oservations[timestep+1][:62])"
   ]
  },
  {
   "cell_type": "code",
   "execution_count": 23,
   "metadata": {},
   "outputs": [
    {
     "data": {
      "text/plain": [
       "array([False, False, False,  True, False, False, False, False, False,\n",
       "       False, False, False, False, False, False, False, False, False,\n",
       "       False, False, False, False, False, False, False, False, False,\n",
       "       False, False, False, False, False, False, False, False, False,\n",
       "       False, False, False, False, False, False, False, False, False,\n",
       "       False, False, False, False, False, False, False, False, False,\n",
       "       False, False, False, False, False, False, False, False])"
      ]
     },
     "execution_count": 23,
     "metadata": {},
     "output_type": "execute_result"
    }
   ],
   "source": [
    "oservations[0][161:223] == oservations[1][161:223]"
   ]
  },
  {
   "cell_type": "code",
   "execution_count": 24,
   "metadata": {},
   "outputs": [
    {
     "data": {
      "text/plain": [
       "array([ -14.748921 ,  -14.748921 ,  -92.04478  , -138.62073  ,\n",
       "         25.913416 ,   25.913416 ,  100.94382  ,    6.941915 ,\n",
       "         18.594582 ,    6.941915 ,   15.21488  ,   43.956272 ,\n",
       "       -156.69667  ,   96.84332  ,   51.108868 ,   51.108868 ,\n",
       "        -63.66118  ,    8.761029 ,    8.131785 ,   23.247894 ,\n",
       "          3.602356 ,    3.602356 ,    4.002582 ,    4.002582 ,\n",
       "          4.874327 ,    1.4557861,   23.688576 ,    4.5602474,\n",
       "          4.5602474,   12.215057 ,   19.793842 ,   18.437796 ,\n",
       "        -24.676123 ,    8.2063675,    9.118105 ,  220.17079  ,\n",
       "       -217.15305  , -234.95625  ,   56.388496 ,  -14.631455 ,\n",
       "         54.463333 ,   30.208773 ,   37.760967 ,  -40.087284 ,\n",
       "        -40.087284 ,   69.4241   ,   57.523857 ,    4.5362134,\n",
       "         12.217419 ,   32.190834 ,   32.190834 ,   26.973503 ,\n",
       "          8.354357 ,   62.160397 ,    8.354357 ,    1.475405 ,\n",
       "         67.28459  ,   30.60838  ,   12.965913 ,   40.145348 ,\n",
       "        -25.493229 ,  197.32422  ], dtype=float32)"
      ]
     },
     "execution_count": 24,
     "metadata": {},
     "output_type": "execute_result"
    }
   ],
   "source": [
    "oservations[0][161:223] "
   ]
  },
  {
   "cell_type": "code",
   "execution_count": 25,
   "metadata": {},
   "outputs": [
    {
     "data": {
      "text/plain": [
       "array([ -14.606089 ,  -14.606089 ,  -92.24981  , -138.62073  ,\n",
       "         26.568287 ,   26.568287 ,  100.18981  ,    7.2717366,\n",
       "         19.478039 ,    7.2717366,   15.064976 ,   43.45647  ,\n",
       "       -157.32968  ,   96.49051  ,   51.18858  ,   51.18858  ,\n",
       "        -64.47408  ,    8.528595 ,    7.864567 ,   22.874043 ,\n",
       "          3.9143858,    3.9143858,    4.349279 ,    4.349279 ,\n",
       "          4.9389668,    1.4750916,   24.254076 ,    4.5153003,\n",
       "          4.5153003,   12.094662 ,   19.77284  ,   19.208948 ,\n",
       "        -24.874819 ,    8.208092 ,    9.120021 ,  219.03308  ,\n",
       "       -217.53926  , -240.10466  ,   55.19998  ,  -14.895313 ,\n",
       "         54.347546 ,   30.943708 ,   38.679634 ,  -39.33453  ,\n",
       "        -39.33453  ,   69.929085 ,   57.813175 ,    4.39741  ,\n",
       "         12.235724 ,   32.823406 ,   32.823406 ,   27.55194  ,\n",
       "          8.553126 ,   63.63933  ,    8.553126 ,    1.6889188,\n",
       "         67.47941  ,   30.818672 ,   12.8389635,   39.85433  ,\n",
       "        -25.733044 ,  196.23     ], dtype=float32)"
      ]
     },
     "execution_count": 25,
     "metadata": {},
     "output_type": "execute_result"
    }
   ],
   "source": [
    "oservations[1][161:223]"
   ]
  },
  {
   "cell_type": "code",
   "execution_count": 26,
   "metadata": {},
   "outputs": [
    {
     "data": {
      "text/plain": [
       "(62,)"
      ]
     },
     "execution_count": 26,
     "metadata": {},
     "output_type": "execute_result"
    }
   ],
   "source": [
    "oservations[0][161:223].shape"
   ]
  },
  {
   "cell_type": "code",
   "execution_count": 28,
   "metadata": {},
   "outputs": [
    {
     "data": {
      "text/plain": [
       "array([6.7935281e-07, 1.2243569e-06, 1.8238270e-06, 4.1796570e-06,\n",
       "       1.4792846e-06, 1.3561554e-06, 2.8323559e-06, 1.9684107e-06,\n",
       "       1.8443943e-06, 1.9972483e-06, 1.0211103e-06, 1.0084126e-07,\n",
       "       3.9998931e-06, 1.3359378e-06, 9.7422082e-07, 1.7304747e-06,\n",
       "       2.3177702e-07, 3.4687602e-07, 1.6671387e-07, 5.9916277e-07,\n",
       "       4.2464794e-06, 3.3748013e-06, 7.1382880e-07, 8.2982825e-07,\n",
       "       6.9779679e-07, 4.8561031e-07, 9.3160088e-07, 7.0766021e-07,\n",
       "       9.9116892e-07, 2.3243031e-06, 3.9625701e-07, 7.5350334e-07,\n",
       "       9.8555688e-07, 3.0031040e-06, 9.3636010e-07, 1.1200769e-06,\n",
       "       1.0083721e-06, 1.2662030e-06, 9.9138629e-07, 7.0157898e-07,\n",
       "       1.1201998e-06, 2.0440243e-06, 5.5373800e-07, 6.7812078e-07,\n",
       "       2.1805708e-06, 2.0128496e-06, 1.5949087e-06, 1.6947723e-06,\n",
       "       6.7651496e-07, 1.8246957e-06, 1.3822332e-06, 1.9192898e-06,\n",
       "       1.4945612e-06, 1.6389453e-06, 3.8252901e-07, 1.1781083e-06,\n",
       "       1.0012221e-06, 1.1319180e-06, 2.5415131e-06, 3.3435072e-07,\n",
       "       5.0539018e-07, 5.7344096e-07, 1.1533348e-06, 4.0994055e-06,\n",
       "       1.2684595e-06, 6.6390726e-07, 1.3555417e-06, 5.7042064e-07,\n",
       "       7.3384348e-07, 1.2684452e-06, 1.6088302e-06, 9.7378518e-07,\n",
       "       5.9569243e-07, 1.3116625e-06, 1.2313793e-06, 7.7744062e-07,\n",
       "       3.4574515e-07, 9.1098951e-07, 2.9966478e-07, 7.9142904e-07,\n",
       "       6.9360635e-07, 2.0196230e-06, 1.7680560e-06, 9.9337467e-07,\n",
       "       2.1609073e-06, 2.6628995e-06, 5.4443302e-07, 1.4568074e-06,\n",
       "       1.5339301e-06, 6.2796124e-07, 1.2925399e-06, 1.7646148e-07,\n",
       "       5.3151791e-07, 8.4786865e-07, 3.2073615e-06, 5.6024455e-06,\n",
       "       2.1144137e-06, 3.7289860e-06, 1.0167342e-06, 4.5130807e-07,\n",
       "       2.6959940e-06, 2.7496699e-06, 1.4618107e-06, 5.1613955e-07,\n",
       "       1.4112942e-06, 5.7470879e-07, 8.8677103e-07, 2.5690636e-06,\n",
       "       1.1711132e-06, 8.9516101e-07, 2.8268121e-07, 9.7444411e-07,\n",
       "       8.6028865e-07, 5.6635963e-07, 3.9625834e-06, 1.2300857e-06,\n",
       "       1.0559216e-06, 3.0179797e-06, 1.2026976e-06, 8.1678536e-07,\n",
       "       1.0938527e-06, 6.6453543e-07, 5.4965778e-07, 8.0695088e-07,\n",
       "       1.1152692e-06, 5.0857182e-07, 5.3960827e-07, 2.2722476e-07,\n",
       "       3.2165897e-07, 2.1639571e-06, 1.1165346e-06, 2.8520878e-07,\n",
       "       2.8520878e-07, 5.7085225e-07, 6.7967164e-07, 1.7386385e-07,\n",
       "       1.9010169e-07, 2.0015310e-07, 1.8569042e-07, 6.1063162e-07,\n",
       "       6.0834040e-08, 2.4428869e-07, 2.3402944e-07, 4.0939580e-07,\n",
       "       1.6220049e-06, 8.0143883e-07, 3.7724121e-07, 1.5987925e-07,\n",
       "       5.0212935e-07, 2.8876801e-07, 2.3406297e-07, 1.7719311e-06,\n",
       "       1.7484057e-07, 1.7181776e-07, 1.4337905e-07, 5.3743787e-07,\n",
       "       5.2851436e-07, 1.0478728e-07, 9.5085788e-08, 1.0370741e-07,\n",
       "       1.2152435e-06, 1.9018316e-06, 2.0336677e-06, 1.2851766e-06,\n",
       "       1.0079390e-06, 1.0079390e-06, 1.7363463e-07, 3.1051147e-07,\n",
       "       1.8015889e-07, 4.1600009e-07, 5.6781585e-07, 2.7564181e-07,\n",
       "       1.7039391e-06, 2.2233918e-02, 2.5337225e-02, 2.7220013e-02,\n",
       "       4.2790451e-04, 1.8605113e-02, 1.5752755e-02, 1.5469733e-02,\n",
       "       7.3350566e-03, 2.1798934e-03, 2.2891024e-02, 3.2977909e-02,\n",
       "       2.1789111e-02, 2.7220013e-02], dtype=float32)"
      ]
     },
     "execution_count": 28,
     "metadata": {},
     "output_type": "execute_result"
    }
   ],
   "source": [
    "oservations[0][223:409] "
   ]
  },
  {
   "cell_type": "code",
   "execution_count": null,
   "metadata": {},
   "outputs": [],
   "source": []
  }
 ],
 "metadata": {
  "kernelspec": {
   "display_name": "grid_madiff",
   "language": "python",
   "name": "python3"
  },
  "language_info": {
   "codemirror_mode": {
    "name": "ipython",
    "version": 3
   },
   "file_extension": ".py",
   "mimetype": "text/x-python",
   "name": "python",
   "nbconvert_exporter": "python",
   "pygments_lexer": "ipython3",
   "version": "3.8.20"
  }
 },
 "nbformat": 4,
 "nbformat_minor": 2
}
